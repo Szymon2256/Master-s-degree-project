{
  "cells": [
    {
      "cell_type": "code",
      "execution_count": null,
      "metadata": {
        "id": "RHJE-sRTKRDX"
      },
      "outputs": [],
      "source": [
        "import numpy as np\n",
        "import pandas as pd\n",
        "from matplotlib import pyplot as plt"
      ]
    },
    {
      "cell_type": "markdown",
      "metadata": {
        "id": "XT7VwYSuRUoo"
      },
      "source": [
        "#Opis równania\n"
      ]
    },
    {
      "cell_type": "markdown",
      "metadata": {
        "id": "I9wP7kTduGsS"
      },
      "source": [
        "W naszym projekcie będziemy używać równania do modelowania epidemiolgicznego SIS (susceptible–infected–susceptible - z ang. podatny-zarażony-podatny). Oznacza to, że każda jednostka jest podatna na zainfekowanie wiele razy w ciągu swojego życia. Samo równanie wygląda następująco. Niech $S_t$ oznacza liczbę podatnych, a $Y_t$ liczbę zarażonych w czasie $t$ oraz niech $N$ oznacza całkowitą liczbę populacji. Wiedząc, że $S_t+Y_t=N$ możemy rozważać stochastyczne równanie różniczkowe dla $Y_t$ przedstawione w następujący sposób\n",
        "\\begin{equation}\n",
        "dY_t = Y_t(βN-μ-ν-βY_t)dt + σY_t(N-Y_t)dW_t\n",
        "\\end{equation}\n",
        "gdzie: \\\\\n",
        "$μ ≥ 0$ - wskaźnik śmiertelności na mieszkańca, \\\\\n",
        "$ν ≥ 0$ - wskaźnik szybkości wyleczenia zakażonych osób \\\\\n",
        "$β ≥ 0$ - współczynnik przenoszenia choroby \\\\\n",
        "$W_t$ - ruch Browna \\\\\n",
        "$σ$ - wariancja potencjalnie zakażonych kontaktów, jakie jeden osobnik nawiązuje z innymi osobnikami na małym przedziale czasowym $[t,t+dt)$."
      ]
    },
    {
      "cell_type": "markdown",
      "metadata": {
        "id": "AGiPdqXrGIsF"
      },
      "source": [
        "Równanie to możemy zapisać w prostszej postaci:\n",
        "\\begin{equation}\n",
        "dY_t=Y_t(a-bY_t)dt + σY_t(N-Y_t)dW_t, \\quad 0≤t\\le T\n",
        "\\end{equation}\n",
        "gdzie \\\\\n",
        "$a= βN-μ-ν$ \\\\\n",
        "$b=β$ \\\\\n",
        "Posłuży nam ona do prostszego zaimplementowania powyższego modelu, także będziemy podawać jej parametry dla $a$ oraz $b$."
      ]
    },
    {
      "cell_type": "code",
      "execution_count": null,
      "metadata": {
        "id": "CilSMgY2R94v"
      },
      "outputs": [],
      "source": [
        "a=5\n",
        "b=0.8\n",
        "sigma=0.1\n",
        "N=10\n",
        "T=1"
      ]
    },
    {
      "cell_type": "markdown",
      "metadata": {
        "id": "yk_MUlemHNEA"
      },
      "source": [
        "Zapiszmy funkcje naszego modelu"
      ]
    },
    {
      "cell_type": "code",
      "execution_count": null,
      "metadata": {
        "id": "Rk7PLXg1RUJt"
      },
      "outputs": [],
      "source": [
        "def f(x):\n",
        "  return x*(a-b*x)\n",
        "def g(x):\n",
        "  return sigma*x*(N-x)"
      ]
    },
    {
      "cell_type": "code",
      "execution_count": null,
      "metadata": {
        "id": "tnr8GkxMSJOO"
      },
      "outputs": [],
      "source": [
        "Interval=np.linspace(0,1,1000)"
      ]
    },
    {
      "cell_type": "code",
      "execution_count": null,
      "metadata": {
        "colab": {
          "base_uri": "https://localhost:8080/",
          "height": 470
        },
        "id": "wYvcQa1vSPx_",
        "outputId": "a227d707-590b-4fdf-f882-ad01f1a64472"
      },
      "outputs": [
        {
          "data": {
            "text/plain": [
              "<matplotlib.legend.Legend at 0x21cd8f816d0>"
            ]
          },
          "execution_count": 5,
          "metadata": {},
          "output_type": "execute_result"
        },
        {
          "data": {
            "image/png": "[encoded data removed]",
            "text/plain": [
              "<Figure size 432x288 with 1 Axes>"
            ]
          },
          "metadata": {
            "needs_background": "light"
          },
          "output_type": "display_data"
        }
      ],
      "source": [
        "plt.plot(Interval,np.abs(f(Interval)),label='y=f(x)')\n",
        "plt.plot(Interval,np.abs(g(Interval)),label='y=g(x)')\n",
        "plt.plot(Interval,Interval,label='y=x')\n",
        "plt.title(\"Porównanie funkcji modelu z funkcją liniową y=x\")\n",
        "plt.legend()"
      ]
    },
    {
      "cell_type": "markdown",
      "metadata": {
        "id": "Sq-TUvKpT9yH"
      },
      "source": [
        "#Generacja procesu Wienera"
      ]
    },
    {
      "cell_type": "markdown",
      "metadata": {
        "id": "BbgwcWy8oOn6"
      },
      "source": [
        "Generujemy ciąg $W_k$ oraz ciąg $\\Delta W_k=W_{k+1}-W_k$ dyskretyzacji pewnej trajektorji procesu Wienera oraz ciąg $t_k$ z $\\Delta t = t_{k+1} -t_k$ dla wszystkich k,  które będą używane w schematach przybliżających rozwiązanie naszego stochastycznego równania."
      ]
    },
    {
      "cell_type": "code",
      "execution_count": null,
      "metadata": {
        "id": "EA6-hTOwUccz"
      },
      "outputs": [],
      "source": [
        "def wiener(n):\n",
        "  h = T/n\n",
        "  t = np.linspace(0,T,n+1)\n",
        "  dw = np.random.normal(0,np.sqrt(h),n)\n",
        "  return t,dw"
      ]
    },
    {
      "cell_type": "markdown",
      "metadata": {
        "id": "7eKatYzTVM0g"
      },
      "source": [
        "#Rozrzedzenie wygenerowanej dyskretyzacji"
      ]
    },
    {
      "cell_type": "markdown",
      "metadata": {
        "id": "BWACblLDpacn"
      },
      "source": [
        "Ponieważ nie mamy rozwiązania dokładnego, rozwiązania przybliżone będziemy musieli porównywać do rozwiązania na zagęszczonej siatce. Tworzymy więc funkcję, która \"rozrzedza\" $10^k$ krotnie zadaną dyskretyzację procesu Wienera."
      ]
    },
    {
      "cell_type": "code",
      "execution_count": null,
      "metadata": {
        "id": "e5kcV9ntUtpT"
      },
      "outputs": [],
      "source": [
        "def wiener_k(t,dw,k):\n",
        "  n=int((len(t)-1)/10**k)\n",
        "  tp = np.linspace(0,T,n+1)\n",
        "  dW = np.zeros(n)\n",
        "  for i in range(n):\n",
        "    pom=0\n",
        "    for j in range(10**k):\n",
        "     pom=pom+dw[10**k*i+j]\n",
        "    dW[i]=pom\n",
        "  return tp, dW"
      ]
    },
    {
      "cell_type": "markdown",
      "metadata": {
        "id": "uEMa14mHVSv5"
      },
      "source": [
        "#Schemat wygładzanego obcinania Lampertiego"
      ]
    },
    {
      "cell_type": "markdown",
      "metadata": {
        "id": "CQr8GX-EIBhW"
      },
      "source": [
        "Schemat wygładzanego obcinania Lampertiego (LST) wygląda następująco\n",
        "\\\n",
        "     \\begin{cases}\n",
        "       x_{t_{i+1}} = x_{t_i}+f(x_{t_{i}})Δt+σNΔW_i, \\\\\n",
        "       y_{t_i} = N \\frac{e^{x_{t_i}}}{e^{x_{t_i}}+1},\n",
        "     \\end{cases}\n",
        "\\\n",
        "gdzie punktami, które będziemy wykorzystywać w modelu są wartości wektora $y$. Funkcja $f(x)$ jest natomiast zadana w następujący sposób\n",
        "\\begin{equation}\n",
        "  f(x) = a - (bN-a)e^x + σ^2N^2 \\frac{e^x-1}{2(e^x+1)}\n",
        "\\end{equation}"
      ]
    },
    {
      "cell_type": "markdown",
      "metadata": {
        "id": "Uua0Zg1fLb1z"
      },
      "source": [
        "Zaimplementujmy zatem naszą funkcję schematu:"
      ]
    },
    {
      "cell_type": "code",
      "execution_count": null,
      "metadata": {
        "id": "gWD6vn-bc-Gi"
      },
      "outputs": [],
      "source": [
        "def f_s(x):\n",
        "   return a-(b*N-a)*np.exp(x)+((sigma*N)**2)*(np.exp(x)-1)/(2*(np.exp(x)+1))"
      ]
    },
    {
      "cell_type": "markdown",
      "metadata": {
        "id": "gJPKIBqyLjG4"
      },
      "source": [
        "Następnie zaimplementujmy schemat wygładzanego obcinania Lampertiego do oblicznaia wartości $x_i$:"
      ]
    },
    {
      "cell_type": "code",
      "execution_count": null,
      "metadata": {
        "id": "XoS1oofdKEte"
      },
      "outputs": [],
      "source": [
        "def Lamperti(L,t,dw):\n",
        "  n = len(dw)+1\n",
        "  x = np.zeros(n)\n",
        "  h = T/n\n",
        "  x[0]=L\n",
        "  for i in range(n-1):\n",
        "    x[i+1]=x[i]+h*f_s(x[i])+sigma*N*dw[i]\n",
        "  return t,x"
      ]
    },
    {
      "cell_type": "markdown",
      "metadata": {
        "id": "EepNaMmLLt97"
      },
      "source": [
        "oraz funkcję przeształcającą wartości $x_i$ na wektor $y$"
      ]
    },
    {
      "cell_type": "code",
      "execution_count": null,
      "metadata": {
        "id": "2ElzTzdIew5J"
      },
      "outputs": [],
      "source": [
        "def y(x):\n",
        "  return N*np.exp(x)/(np.exp(x)+1)"
      ]
    },
    {
      "cell_type": "markdown",
      "metadata": {
        "id": "qcInFC1qMpMs"
      },
      "source": [
        "Wygenerujmy więc rozwiązanie dokładne na siatce $10^7$ oraz rozwiązania na rozrzedzonej siatce - rozrzedzimy ją $10^3$-krotnie, $10^4$-krotnie oraz $10^5$-krotnie"
      ]
    },
    {
      "cell_type": "code",
      "execution_count": null,
      "metadata": {
        "colab": {
          "base_uri": "https://localhost:8080/"
        },
        "id": "lj49jTfJfk24",
        "outputId": "7f93e8f2-8502-4e65-896d-4933bb20decf"
      },
      "outputs": [
        {
          "name": "stdout",
          "output_type": "stream",
          "text": [
            "Wall time: 22.9 s\n"
          ]
        }
      ],
      "source": [
        "%%time\n",
        "tg1,wg1=wiener(10**7)\n",
        "tp1,wp1=wiener_k(tg1,wg1,1)\n",
        "tp2,wp2=wiener_k(tg1,wg1,2)\n",
        "t11,w11=wiener_k(tg1,wg1,3)\n",
        "t21,w21=wiener_k(tg1,wg1,4)\n",
        "t31,w31=wiener_k(tg1,wg1,5)"
      ]
    },
    {
      "cell_type": "markdown",
      "metadata": {
        "id": "1u-ZYQjPM91R"
      },
      "source": [
        "Obliczamy wektor $x$ schematem Lampertiego"
      ]
    },
    {
      "cell_type": "code",
      "execution_count": null,
      "metadata": {
        "colab": {
          "base_uri": "https://localhost:8080/"
        },
        "id": "u1q2s-0Ofvbq",
        "outputId": "101c50d5-75aa-4a79-a54d-abebf319dd8a"
      },
      "outputs": [
        {
          "name": "stdout",
          "output_type": "stream",
          "text": [
            "Wall time: 1min 17s\n"
          ]
        }
      ],
      "source": [
        "%%time\n",
        "tdL,x_tr=Lamperti(0.1,tg1,wg1)\n",
        "tL4,x4_tr = Lamperti(0.1,tp1,wp1)\n",
        "tL5,x5_tr = Lamperti(0.1,tp2,wp2)\n",
        "tL1,x1_tr=Lamperti(0.1,t11,w11)\n",
        "tL2,x2_tr=Lamperti(0.1,t21,w21)\n",
        "tL3,x3_tr=Lamperti(0.1,t31,w31)"
      ]
    },
    {
      "cell_type": "markdown",
      "metadata": {
        "id": "ewb6hMfxNGro"
      },
      "source": [
        "a następnie obliczmy wektor $y$"
      ]
    },
    {
      "cell_type": "code",
      "execution_count": null,
      "metadata": {
        "id": "P3O_4wXQgin1"
      },
      "outputs": [],
      "source": [
        "xdL1=y(x_tr)\n",
        "x4L1=y(x4_tr)\n",
        "x5L1=y(x5_tr)\n",
        "x1L1=y(x1_tr)\n",
        "x2L1=y(x2_tr)\n",
        "x3L1=y(x3_tr)"
      ]
    },
    {
      "cell_type": "markdown",
      "metadata": {
        "id": "eKrHU82RZ91U"
      },
      "source": [
        "Zobaczmy jak nasze trajektorie przedstawiają się na wykresie"
      ]
    },
    {
      "cell_type": "code",
      "execution_count": null,
      "metadata": {
        "colab": {
          "base_uri": "https://localhost:8080/",
          "height": 504
        },
        "id": "OoBOsNYchV5K",
        "outputId": "d5d4ac2f-5355-43e5-ef8f-1dfef5d94c30"
      },
      "outputs": [
        {
          "name": "stdout",
          "output_type": "stream",
          "text": [
            "Wall time: 691 ms\n"
          ]
        },
        {
          "data": {
            "text/plain": [
              "<matplotlib.legend.Legend at 0x21c81108ca0>"
            ]
          },
          "execution_count": 28,
          "metadata": {},
          "output_type": "execute_result"
        },
        {
          "data": {
            "image/png": "[encoded data removed]",
            "text/plain": [
              "<Figure size 432x288 with 1 Axes>"
            ]
          },
          "metadata": {
            "needs_background": "light"
          },
          "output_type": "display_data"
        }
      ],
      "source": [
        "%%time\n",
        "plt.xlabel('t=czas')\n",
        "plt.ylabel('$Y_t$')\n",
        "plt.plot(tdL,xdL1, label='dokl')\n",
        "plt.plot(tL1,x1L1, label='x1')\n",
        "plt.plot(tL2,x2L1, label='x2')\n",
        "plt.plot(tL3,x3L1, label='x3')\n",
        "plt.legend()"
      ]
    },
    {
      "cell_type": "markdown",
      "metadata": {
        "id": "mWojSfbScWbT"
      },
      "source": [
        "Poniższa tabela przedstawia wartość w tym samym wybranym punkcie dla każdej z rozważanej siatek"
      ]
    },
    {
      "cell_type": "code",
      "execution_count": null,
      "metadata": {
        "id": "XCHxYKW4jA3E",
        "outputId": "3b5fff7d-f7ee-4904-b0e1-ed499c5325e4"
      },
      "outputs": [
        {
          "data": {
            "text/html": [
              "<div>\n",
              "<style scoped>\n",
              "    .dataframe tbody tr th:only-of-type {\n",
              "        vertical-align: middle;\n",
              "    }\n",
              "\n",
              "    .dataframe tbody tr th {\n",
              "        vertical-align: top;\n",
              "    }\n",
              "\n",
              "    .dataframe thead th {\n",
              "        text-align: right;\n",
              "    }\n",
              "</style>\n",
              "<table border=\"1\" class=\"dataframe\">\n",
              "  <thead>\n",
              "    <tr style=\"text-align: right;\">\n",
              "      <th></th>\n",
              "      <th>siatka</th>\n",
              "      <th>wartość punktu</th>\n",
              "    </tr>\n",
              "  </thead>\n",
              "  <tbody>\n",
              "    <tr>\n",
              "      <th>0</th>\n",
              "      <td>dokł - 10^7</td>\n",
              "      <td>5.332588</td>\n",
              "    </tr>\n",
              "    <tr>\n",
              "      <th>1</th>\n",
              "      <td>10^6</td>\n",
              "      <td>5.332587</td>\n",
              "    </tr>\n",
              "    <tr>\n",
              "      <th>2</th>\n",
              "      <td>10^5</td>\n",
              "      <td>5.332574</td>\n",
              "    </tr>\n",
              "    <tr>\n",
              "      <th>3</th>\n",
              "      <td>10^4</td>\n",
              "      <td>5.332519</td>\n",
              "    </tr>\n",
              "    <tr>\n",
              "      <th>4</th>\n",
              "      <td>10^3</td>\n",
              "      <td>5.332475</td>\n",
              "    </tr>\n",
              "    <tr>\n",
              "      <th>5</th>\n",
              "      <td>10^2</td>\n",
              "      <td>5.316745</td>\n",
              "    </tr>\n",
              "  </tbody>\n",
              "</table>\n",
              "</div>"
            ],
            "text/plain": [
              "        siatka  wartość punktu\n",
              "0  dokł - 10^7        5.332588\n",
              "1         10^6        5.332587\n",
              "2         10^5        5.332574\n",
              "3         10^4        5.332519\n",
              "4         10^3        5.332475\n",
              "5         10^2        5.316745"
            ]
          },
          "execution_count": 29,
          "metadata": {},
          "output_type": "execute_result"
        }
      ],
      "source": [
        "dane={'siatka':['dokł - 10^7','10^6','10^5','10^4','10^3','10^2'], 'wartość punktu':[xdL1[20*10**5],x4L1[20*10**4],x5L1[20*10**3],x1L1[20*10**2],x2L1[20*10],x3L1[20]]}\n",
        "df=pd.DataFrame(dane)\n",
        "df"
      ]
    },
    {
      "cell_type": "markdown",
      "metadata": {
        "id": "yG5Hs3ODa51T"
      },
      "source": [
        "Zobaczmy jak prezentują się logarytmy błędów rozważanych siatek na wykresie"
      ]
    },
    {
      "cell_type": "code",
      "execution_count": null,
      "metadata": {
        "id": "CkAQLFaYjlin",
        "outputId": "3cb40b0a-7bbf-4030-daef-90171f194b54"
      },
      "outputs": [
        {
          "data": {
            "text/plain": [
              "array([1.40015733e-06, 2.59857529e-06, 1.49121398e-04, 1.95442404e-04,\n",
              "       1.82656684e-02])"
            ]
          },
          "execution_count": 33,
          "metadata": {},
          "output_type": "execute_result"
        }
      ],
      "source": [
        "blad=np.zeros(5)\n",
        "blad[0]=np.abs(xdL1[-1]-x4L1[-1])\n",
        "blad[1]=np.abs(xdL1[-1]-x5L1[-1])\n",
        "blad[2]=np.abs(xdL1[-1]-x1L1[-1])\n",
        "blad[3]=np.abs(xdL1[-1]-x2L1[-1])\n",
        "blad[4]=np.abs(xdL1[-1]-x3L1[-1])\n",
        "blad_log=np.log(blad)\n",
        "blad"
      ]
    },
    {
      "cell_type": "code",
      "execution_count": null,
      "metadata": {
        "colab": {
          "base_uri": "https://localhost:8080/",
          "height": 206
        },
        "id": "f6OG2m1FRZm6",
        "outputId": "c9e6827a-3f4d-4aa3-e08d-36785a57b35e"
      },
      "outputs": [
        {
          "data": {
            "text/html": [
              "<div>\n",
              "<style scoped>\n",
              "    .dataframe tbody tr th:only-of-type {\n",
              "        vertical-align: middle;\n",
              "    }\n",
              "\n",
              "    .dataframe tbody tr th {\n",
              "        vertical-align: top;\n",
              "    }\n",
              "\n",
              "    .dataframe thead th {\n",
              "        text-align: right;\n",
              "    }\n",
              "</style>\n",
              "<table border=\"1\" class=\"dataframe\">\n",
              "  <thead>\n",
              "    <tr style=\"text-align: right;\">\n",
              "      <th></th>\n",
              "      <th>siatka</th>\n",
              "      <th>blad</th>\n",
              "    </tr>\n",
              "  </thead>\n",
              "  <tbody>\n",
              "    <tr>\n",
              "      <th>0</th>\n",
              "      <td>10^6</td>\n",
              "      <td>0.000001</td>\n",
              "    </tr>\n",
              "    <tr>\n",
              "      <th>1</th>\n",
              "      <td>10^5</td>\n",
              "      <td>0.000003</td>\n",
              "    </tr>\n",
              "    <tr>\n",
              "      <th>2</th>\n",
              "      <td>10^4</td>\n",
              "      <td>0.000149</td>\n",
              "    </tr>\n",
              "    <tr>\n",
              "      <th>3</th>\n",
              "      <td>10^3</td>\n",
              "      <td>0.000195</td>\n",
              "    </tr>\n",
              "    <tr>\n",
              "      <th>4</th>\n",
              "      <td>10^2</td>\n",
              "      <td>0.018266</td>\n",
              "    </tr>\n",
              "  </tbody>\n",
              "</table>\n",
              "</div>"
            ],
            "text/plain": [
              "  siatka      blad\n",
              "0   10^6  0.000001\n",
              "1   10^5  0.000003\n",
              "2   10^4  0.000149\n",
              "3   10^3  0.000195\n",
              "4   10^2  0.018266"
            ]
          },
          "execution_count": 34,
          "metadata": {},
          "output_type": "execute_result"
        }
      ],
      "source": [
        "bledy={'siatka':['10^6','10^5','10^4','10^3','10^2'], 'blad':[blad[0],blad[1],blad[2],blad[3],blad[4]]}\n",
        "bd=pd.DataFrame(bledy)\n",
        "bd"
      ]
    },
    {
      "cell_type": "code",
      "execution_count": null,
      "metadata": {
        "colab": {
          "base_uri": "https://localhost:8080/",
          "height": 448
        },
        "id": "uV8023kLjuIA",
        "outputId": "91c2832f-3cd0-4dbb-b371-2a60504ad202"
      },
      "outputs": [
        {
          "data": {
            "text/plain": [
              "<matplotlib.collections.PathCollection at 0x21c819a8c40>"
            ]
          },
          "execution_count": 35,
          "metadata": {},
          "output_type": "execute_result"
        },
        {
          "data": {
            "image/png": "[encoded data removed]",
            "text/plain": [
              "<Figure size 432x288 with 1 Axes>"
            ]
          },
          "metadata": {
            "needs_background": "light"
          },
          "output_type": "display_data"
        }
      ],
      "source": [
        "plt.plot([0,1,2,3,4],blad_log)\n",
        "plt.scatter([0,1,2,3,4],blad_log)"
      ]
    },
    {
      "cell_type": "markdown",
      "metadata": {
        "id": "sxkdRxFskCow"
      },
      "source": [
        "Po otrzymaniu powyższej zależości, chcemy spróbować w pewnym stopniu losowosć stworzoną przez wykorzystanie zaledwie jednej trajektorji procesu Wienera. Powtórzmy więc eksperyment 20 razy i obliczmy średnią wyników, które przybliży nam wartość oczekiwaną wyników."
      ]
    },
    {
      "cell_type": "code",
      "execution_count": null,
      "metadata": {
        "colab": {
          "base_uri": "https://localhost:8080/"
        },
        "id": "RrOqfYm-kJnY",
        "outputId": "3744d480-0e96-41c6-b80b-90ad10f247ec"
      },
      "outputs": [
        {
          "name": "stdout",
          "output_type": "stream",
          "text": [
            "CPU times: user 36min 7s, sys: 6.86 s, total: 36min 14s\n",
            "Wall time: 36min 29s\n"
          ]
        }
      ],
      "source": [
        "%%time\n",
        "powt=50\n",
        "bladLamperti1=np.zeros(powt)\n",
        "bladLamperti2=np.zeros(powt)\n",
        "bladLamperti3=np.zeros(powt)\n",
        "bladLamperti4=np.zeros(powt)\n",
        "bladLamperti5=np.zeros(powt)\n",
        "for i in range(powt):\n",
        "  tg,wg=wiener(10**7)\n",
        "  t4,w4=wiener_k(tg,wg,1)\n",
        "  t5,w5=wiener_k(tg,wg,2)\n",
        "  t1,w1=wiener_k(tg,wg,3)\n",
        "  t2,w2=wiener_k(tg,wg,4)\n",
        "  t3,w3=wiener_k(tg,wg,5)\n",
        "  td,x_tr=Lamperti(0.1,tg,wg)\n",
        "  tE1,x1_tr=Lamperti(0.1,t1,w1)\n",
        "  tE2,x2_tr=Lamperti(0.1,t2,w2)\n",
        "  tE3,x3_tr=Lamperti(0.1,t3,w3)\n",
        "  tE4,x4_tr=Lamperti(0.1,t4,w4)\n",
        "  tE5,x5_tr=Lamperti(0.1,t5,w5)\n",
        "  xdL=y(x_tr)\n",
        "  x1L=y(x1_tr)\n",
        "  x2L=y(x2_tr)\n",
        "  x3L=y(x3_tr)\n",
        "  x4L=y(x4_tr)\n",
        "  x5L=y(x5_tr)\n",
        "  bladLamperti1[i]=np.abs(xdL[-1]-x1L[-1])\n",
        "  bladLamperti2[i]=np.abs(xdL[-1]-x2L[-1])\n",
        "  bladLamperti3[i]=np.abs(xdL[-1]-x3L[-1])\n",
        "  bladLamperti4[i]=np.abs(xdL[-1]-x4L[-1])\n",
        "  bladLamperti5[i]=np.abs(xdL[-1]-x5L[-1])\n",
        "blad1=np.mean(bladLamperti1)\n",
        "blad2=np.mean(bladLamperti2)\n",
        "blad3=np.mean(bladLamperti3)\n",
        "blad4=np.mean(bladLamperti4)\n",
        "blad5=np.mean(bladLamperti5)"
      ]
    },
    {
      "cell_type": "markdown",
      "metadata": {
        "id": "cU9sRycLV57Z"
      },
      "source": [
        "Otrzymane średnie błędy wyglądają następująco"
      ]
    },
    {
      "cell_type": "code",
      "execution_count": null,
      "metadata": {
        "colab": {
          "base_uri": "https://localhost:8080/"
        },
        "id": "i2Dnppw7mY5d",
        "outputId": "0c59245e-0e7b-49c0-a2e1-a1cb9f9b6e37"
      },
      "outputs": [
        {
          "data": {
            "text/plain": [
              "array([1.42624471e-06, 1.39067507e-05, 1.42149885e-04, 1.70389675e-03,\n",
              "       1.38506895e-02])"
            ]
          },
          "execution_count": 35,
          "metadata": {},
          "output_type": "execute_result"
        }
      ],
      "source": [
        "blad_LST=np.zeros(5)\n",
        "blad_LST[0]=blad4\n",
        "blad_LST[1]=blad5\n",
        "blad_LST[2]=blad1\n",
        "blad_LST[3]=blad2\n",
        "blad_LST[4]=blad3\n",
        "blad_LST"
      ]
    },
    {
      "cell_type": "code",
      "execution_count": null,
      "metadata": {
        "colab": {
          "base_uri": "https://localhost:8080/",
          "height": 206
        },
        "id": "LfBRsk6f5b1T",
        "outputId": "ab41ef1f-16ec-4edd-a6f8-e25735dc5c4f"
      },
      "outputs": [
        {
          "data": {
            "text/html": [
              "\n",
              "\n",
              "  <div id=\"df-6603922f-ba94-45a7-8dc4-1d087b5e826c\">\n",
              "    <div class=\"colab-df-container\">\n",
              "      <div>\n",
              "<style scoped>\n",
              "    .dataframe tbody tr th:only-of-type {\n",
              "        vertical-align: middle;\n",
              "    }\n",
              "\n",
              "    .dataframe tbody tr th {\n",
              "        vertical-align: top;\n",
              "    }\n",
              "\n",
              "    .dataframe thead th {\n",
              "        text-align: right;\n",
              "    }\n",
              "</style>\n",
              "<table border=\"1\" class=\"dataframe\">\n",
              "  <thead>\n",
              "    <tr style=\"text-align: right;\">\n",
              "      <th></th>\n",
              "      <th>siatka</th>\n",
              "      <th>blad</th>\n",
              "    </tr>\n",
              "  </thead>\n",
              "  <tbody>\n",
              "    <tr>\n",
              "      <th>0</th>\n",
              "      <td>10^6</td>\n",
              "      <td>0.000001</td>\n",
              "    </tr>\n",
              "    <tr>\n",
              "      <th>1</th>\n",
              "      <td>10^5</td>\n",
              "      <td>0.000014</td>\n",
              "    </tr>\n",
              "    <tr>\n",
              "      <th>2</th>\n",
              "      <td>10^4</td>\n",
              "      <td>0.000142</td>\n",
              "    </tr>\n",
              "    <tr>\n",
              "      <th>3</th>\n",
              "      <td>10^3</td>\n",
              "      <td>0.001704</td>\n",
              "    </tr>\n",
              "    <tr>\n",
              "      <th>4</th>\n",
              "      <td>10^2</td>\n",
              "      <td>0.013851</td>\n",
              "    </tr>\n",
              "  </tbody>\n",
              "</table>\n",
              "</div>\n",
              "      <button class=\"colab-df-convert\" onclick=\"convertToInteractive('df-6603922f-ba94-45a7-8dc4-1d087b5e826c')\"\n",
              "              title=\"Convert this dataframe to an interactive table.\"\n",
              "              style=\"display:none;\">\n",
              "\n",
              "  <svg xmlns=\"http://www.w3.org/2000/svg\" height=\"24px\"viewBox=\"0 0 24 24\"\n",
              "       width=\"24px\">\n",
              "    <path d=\"M0 0h24v24H0V0z\" fill=\"none\"/>\n",
              "    <path d=\"M18.56 5.44l.94 2.06.94-2.06 2.06-.94-2.06-.94-.94-2.06-.94 2.06-2.06.94zm-11 1L8.5 8.5l.94-2.06 2.06-.94-2.06-.94L8.5 2.5l-.94 2.06-2.06.94zm10 10l.94 2.06.94-2.06 2.06-.94-2.06-.94-.94-2.06-.94 2.06-2.06.94z\"/><path d=\"M17.41 7.96l-1.37-1.37c-.4-.4-.92-.59-1.43-.59-.52 0-1.04.2-1.43.59L10.3 9.45l-7.72 7.72c-.78.78-.78 2.05 0 2.83L4 21.41c.39.39.9.59 1.41.59.51 0 1.02-.2 1.41-.59l7.78-7.78 2.81-2.81c.8-.78.8-2.07 0-2.86zM5.41 20L4 18.59l7.72-7.72 1.47 1.35L5.41 20z\"/>\n",
              "  </svg>\n",
              "      </button>\n",
              "\n",
              "\n",
              "\n",
              "    <div id=\"df-3bbad5da-e45a-482a-adc5-2fae6c1c75ef\">\n",
              "      <button class=\"colab-df-quickchart\" onclick=\"quickchart('df-3bbad5da-e45a-482a-adc5-2fae6c1c75ef')\"\n",
              "              title=\"Suggest charts.\"\n",
              "              style=\"display:none;\">\n",
              "\n",
              "<svg xmlns=\"http://www.w3.org/2000/svg\" height=\"24px\"viewBox=\"0 0 24 24\"\n",
              "     width=\"24px\">\n",
              "    <g>\n",
              "        <path d=\"M19 3H5c-1.1 0-2 .9-2 2v14c0 1.1.9 2 2 2h14c1.1 0 2-.9 2-2V5c0-1.1-.9-2-2-2zM9 17H7v-7h2v7zm4 0h-2V7h2v10zm4 0h-2v-4h2v4z\"/>\n",
              "    </g>\n",
              "</svg>\n",
              "      </button>\n",
              "    </div>\n",
              "\n",
              "<style>\n",
              "  .colab-df-quickchart {\n",
              "    background-color: #E8F0FE;\n",
              "    border: none;\n",
              "    border-radius: 50%;\n",
              "    cursor: pointer;\n",
              "    display: none;\n",
              "    fill: #1967D2;\n",
              "    height: 32px;\n",
              "    padding: 0 0 0 0;\n",
              "    width: 32px;\n",
              "  }\n",
              "\n",
              "  .colab-df-quickchart:hover {\n",
              "    background-color: #E2EBFA;\n",
              "    box-shadow: 0px 1px 2px rgba(60, 64, 67, 0.3), 0px 1px 3px 1px rgba(60, 64, 67, 0.15);\n",
              "    fill: #174EA6;\n",
              "  }\n",
              "\n",
              "  [theme=dark] .colab-df-quickchart {\n",
              "    background-color: #3B4455;\n",
              "    fill: #D2E3FC;\n",
              "  }\n",
              "\n",
              "  [theme=dark] .colab-df-quickchart:hover {\n",
              "    background-color: #434B5C;\n",
              "    box-shadow: 0px 1px 3px 1px rgba(0, 0, 0, 0.15);\n",
              "    filter: drop-shadow(0px 1px 2px rgba(0, 0, 0, 0.3));\n",
              "    fill: #FFFFFF;\n",
              "  }\n",
              "</style>\n",
              "\n",
              "    <script>\n",
              "      async function quickchart(key) {\n",
              "        const containerElement = document.querySelector('#' + key);\n",
              "        const charts = await google.colab.kernel.invokeFunction(\n",
              "            'suggestCharts', [key], {});\n",
              "      }\n",
              "    </script>\n",
              "\n",
              "      <script>\n",
              "\n",
              "function displayQuickchartButton(domScope) {\n",
              "  let quickchartButtonEl =\n",
              "    domScope.querySelector('#df-3bbad5da-e45a-482a-adc5-2fae6c1c75ef button.colab-df-quickchart');\n",
              "  quickchartButtonEl.style.display =\n",
              "    google.colab.kernel.accessAllowed ? 'block' : 'none';\n",
              "}\n",
              "\n",
              "        displayQuickchartButton(document);\n",
              "      </script>\n",
              "      <style>\n",
              "    .colab-df-container {\n",
              "      display:flex;\n",
              "      flex-wrap:wrap;\n",
              "      gap: 12px;\n",
              "    }\n",
              "\n",
              "    .colab-df-convert {\n",
              "      background-color: #E8F0FE;\n",
              "      border: none;\n",
              "      border-radius: 50%;\n",
              "      cursor: pointer;\n",
              "      display: none;\n",
              "      fill: #1967D2;\n",
              "      height: 32px;\n",
              "      padding: 0 0 0 0;\n",
              "      width: 32px;\n",
              "    }\n",
              "\n",
              "    .colab-df-convert:hover {\n",
              "      background-color: #E2EBFA;\n",
              "      box-shadow: 0px 1px 2px rgba(60, 64, 67, 0.3), 0px 1px 3px 1px rgba(60, 64, 67, 0.15);\n",
              "      fill: #174EA6;\n",
              "    }\n",
              "\n",
              "    [theme=dark] .colab-df-convert {\n",
              "      background-color: #3B4455;\n",
              "      fill: #D2E3FC;\n",
              "    }\n",
              "\n",
              "    [theme=dark] .colab-df-convert:hover {\n",
              "      background-color: #434B5C;\n",
              "      box-shadow: 0px 1px 3px 1px rgba(0, 0, 0, 0.15);\n",
              "      filter: drop-shadow(0px 1px 2px rgba(0, 0, 0, 0.3));\n",
              "      fill: #FFFFFF;\n",
              "    }\n",
              "  </style>\n",
              "\n",
              "      <script>\n",
              "        const buttonEl =\n",
              "          document.querySelector('#df-6603922f-ba94-45a7-8dc4-1d087b5e826c button.colab-df-convert');\n",
              "        buttonEl.style.display =\n",
              "          google.colab.kernel.accessAllowed ? 'block' : 'none';\n",
              "\n",
              "        async function convertToInteractive(key) {\n",
              "          const element = document.querySelector('#df-6603922f-ba94-45a7-8dc4-1d087b5e826c');\n",
              "          const dataTable =\n",
              "            await google.colab.kernel.invokeFunction('convertToInteractive',\n",
              "                                                     [key], {});\n",
              "          if (!dataTable) return;\n",
              "\n",
              "          const docLinkHtml = 'Like what you see? Visit the ' +\n",
              "            '<a target=\"_blank\" href=https://colab.research.google.com/notebooks/data_table.ipynb>data table notebook</a>'\n",
              "            + ' to learn more about interactive tables.';\n",
              "          element.innerHTML = '';\n",
              "          dataTable['output_type'] = 'display_data';\n",
              "          await google.colab.output.renderOutput(dataTable, element);\n",
              "          const docLink = document.createElement('div');\n",
              "          docLink.innerHTML = docLinkHtml;\n",
              "          element.appendChild(docLink);\n",
              "        }\n",
              "      </script>\n",
              "    </div>\n",
              "  </div>\n"
            ],
            "text/plain": [
              "  siatka      blad\n",
              "0   10^6  0.000001\n",
              "1   10^5  0.000014\n",
              "2   10^4  0.000142\n",
              "3   10^3  0.001704\n",
              "4   10^2  0.013851"
            ]
          },
          "execution_count": 65,
          "metadata": {},
          "output_type": "execute_result"
        }
      ],
      "source": [
        "nowe_bledy={'siatka':['10^6','10^5','10^4','10^3','10^2'], 'blad':[blad_LST[0],blad_LST[1],blad_LST[2],blad_LST[3],blad_LST[4]]}\n",
        "nw_bd=pd.DataFrame(nowe_bledy)\n",
        "nw_bd"
      ]
    },
    {
      "cell_type": "code",
      "execution_count": null,
      "metadata": {
        "colab": {
          "base_uri": "https://localhost:8080/",
          "height": 448
        },
        "id": "ophgnbtTmd7t",
        "outputId": "97f53e1a-6b0e-4afc-ef94-e6cde99c7a15"
      },
      "outputs": [
        {
          "data": {
            "text/plain": [
              "<matplotlib.legend.Legend at 0x7dd3fe7a4310>"
            ]
          },
          "execution_count": 54,
          "metadata": {},
          "output_type": "execute_result"
        },
        {
          "data": {
            "image/png": "[encoded data removed]",
            "text/plain": [
              "<Figure size 640x480 with 1 Axes>"
            ]
          },
          "metadata": {},
          "output_type": "display_data"
        }
      ],
      "source": [
        "x = np.linspace(0, 5, 1000)\n",
        "plt.plot(x,2.3*x-15,color='orange', label=\"Nachylenie 2.3\")\n",
        "plt.plot([0,1,2,3,4],np.log(blad_LST), label=\"LST\")\n",
        "plt.scatter([0,1,2,3,4],np.log(blad_LST))\n",
        "plt.legend()"
      ]
    },
    {
      "cell_type": "markdown",
      "metadata": {
        "id": "9BCXY67mWLLV"
      },
      "source": [
        "Widzimy więc, że po kilku iteracjach nasze tempo zbieżności ustabilizowało się. Wynosi ono około 3."
      ]
    },
    {
      "cell_type": "markdown",
      "metadata": {
        "id": "CEuKVECuVVrc"
      },
      "source": [
        "#Schemat Eulera-Maruyamy"
      ]
    },
    {
      "cell_type": "markdown",
      "metadata": {
        "id": "W5CaoIURVamR"
      },
      "source": [
        "Schematem Eulera Maruyamy nazywamy następujący ciąg przybliżeń: \\\\\n",
        "$Y_{i+1}(t)=Y_i(t)+a(Y_i(t))\\Delta t+b(Y_i(t))\\Delta W_i$ \\\\\n",
        "Sprawdźmy zatem jakie wyniki uzyskamy za pomocą schematu Eulera"
      ]
    },
    {
      "cell_type": "code",
      "execution_count": null,
      "metadata": {
        "id": "0O8iPpTmLHE5"
      },
      "outputs": [],
      "source": [
        "def Euler(E,t,dw):\n",
        "  n = len(dw)+1\n",
        "  y = np.zeros(n)\n",
        "  h = T/n\n",
        "  y[0]=E\n",
        "  for i in range(n-1):\n",
        "    y[i+1]=y[i]+f(y[i])*h+g(y[i])*dw[i]\n",
        "  return t,y"
      ]
    },
    {
      "cell_type": "code",
      "execution_count": null,
      "metadata": {
        "id": "6Rg5wXW2V4l-"
      },
      "outputs": [],
      "source": [
        "pp=y(0.1)"
      ]
    },
    {
      "cell_type": "code",
      "execution_count": null,
      "metadata": {
        "colab": {
          "base_uri": "https://localhost:8080/"
        },
        "id": "DT0ib6BJWGBM",
        "outputId": "668b8e2a-f617-4842-977c-eca18fdc51ab"
      },
      "outputs": [
        {
          "name": "stdout",
          "output_type": "stream",
          "text": [
            "CPU times: user 23.1 s, sys: 108 ms, total: 23.2 s\n",
            "Wall time: 23.4 s\n"
          ]
        }
      ],
      "source": [
        "%%time\n",
        "tdE,xdE=Euler(pp,tg1,wg1)\n",
        "tE4,x4E=Euler(pp,tp1,wp1)\n",
        "tE5,x5E=Euler(pp,tp2,wp2)\n",
        "tE1,x1E=Euler(pp,t11,w11)\n",
        "tE2,x2E=Euler(pp,t21,w21)\n",
        "tE3,x3E=Euler(pp,t31,w31)"
      ]
    },
    {
      "cell_type": "code",
      "execution_count": null,
      "metadata": {
        "colab": {
          "base_uri": "https://localhost:8080/",
          "height": 504
        },
        "id": "lbGUl0oaWZqE",
        "outputId": "e662e2be-99cf-43b0-d071-2bbc6b8c196f"
      },
      "outputs": [
        {
          "name": "stdout",
          "output_type": "stream",
          "text": [
            "CPU times: user 366 ms, sys: 381 ms, total: 747 ms\n",
            "Wall time: 748 ms\n"
          ]
        },
        {
          "data": {
            "text/plain": [
              "[<matplotlib.lines.Line2D at 0x7ecf2573c130>]"
            ]
          },
          "execution_count": 32,
          "metadata": {},
          "output_type": "execute_result"
        },
        {
          "data": {
            "image/png": "[encoded data removed]",
            "text/plain": [
              "<Figure size 640x480 with 1 Axes>"
            ]
          },
          "metadata": {},
          "output_type": "display_data"
        }
      ],
      "source": [
        "%%time\n",
        "plt.xlabel('t=czas')\n",
        "plt.ylabel('$Y_t$')\n",
        "plt.plot(tdE,xdE)\n",
        "plt.plot(tE1,x1E)\n",
        "plt.plot(tE2,x2E)\n",
        "plt.plot(tE3,x3E)"
      ]
    },
    {
      "cell_type": "markdown",
      "metadata": {
        "id": "_yR8EU9AXBBG"
      },
      "source": [
        "Trajektoria ta wygląda znacznie inaczej niż ta uzyskana przy pomocy schematu wygładzanego obcinania Lampertiego. Zobaczmy zatem jak obie trajektorie prezentują się na jednym wykresie."
      ]
    },
    {
      "cell_type": "code",
      "execution_count": null,
      "metadata": {
        "colab": {
          "base_uri": "https://localhost:8080/",
          "height": 504
        },
        "id": "dM4SGtYP5CfD",
        "outputId": "0f99792f-ffa6-4a4c-86a7-0f03e2fa3f47"
      },
      "outputs": [
        {
          "name": "stdout",
          "output_type": "stream",
          "text": [
            "CPU times: user 622 ms, sys: 525 ms, total: 1.15 s\n",
            "Wall time: 1.15 s\n"
          ]
        },
        {
          "data": {
            "text/plain": [
              "<matplotlib.legend.Legend at 0x7ecf257a2dd0>"
            ]
          },
          "execution_count": 33,
          "metadata": {},
          "output_type": "execute_result"
        },
        {
          "data": {
            "image/png": "[encoded data removed]",
            "text/plain": [
              "<Figure size 640x480 with 1 Axes>"
            ]
          },
          "metadata": {},
          "output_type": "display_data"
        }
      ],
      "source": [
        "%%time\n",
        "plt.xlabel('t=czas')\n",
        "plt.ylabel('$Y_t$')\n",
        "plt.plot(tdL,xdL1, label='Lamperti')\n",
        "plt.plot(tdE,xdE, label='Euler')\n",
        "plt.legend()"
      ]
    },
    {
      "cell_type": "markdown",
      "metadata": {
        "id": "T-Cd8b5pXUvX"
      },
      "source": [
        "Jak widzimy różnica pomiędzy otrzymanymi trajektoriami jest bardzo duża. Wynika to z faktu, że w naszym modelu SIS mamy do rozwiązania funkcję, która jest mocno nieliniowa o eksponentalnym wzroście, a schemat Eulera-Maruyamy jest przeznaczony dla funkcji, które są co najwyżej liniowego wzrostu."
      ]
    },
    {
      "cell_type": "markdown",
      "metadata": {
        "id": "5fzsPNHSYHRH"
      },
      "source": [
        "Z tego też powodu porówanjmy nasz schemat wygładzanego obcinania Lampertiego z niejawnym schematem Lampertiego wstecznego (Lamperti-bakward Euler - LBE):\n",
        "\\\n",
        "     \\begin{cases}\n",
        "       x_{t_{i+1}} = x_{t_i}+f(x_{t_{i+1}})Δt+σNΔW_i, \\\\\n",
        "       y_{t_i} = N \\frac{e^{x_{t_i}}}{e^{x_{t_i}}+1},\n",
        "     \\end{cases}\n"
      ]
    },
    {
      "cell_type": "code",
      "execution_count": null,
      "metadata": {
        "id": "jJ7xI60CN9tR"
      },
      "outputs": [],
      "source": [
        "def Lamperti_Backward(L,t,dw):\n",
        "  n = len(dw)+1\n",
        "  x = np.zeros(n)\n",
        "  h = T/n\n",
        "  x[0]=L\n",
        "  for i in range(n-1):\n",
        "    xnowe=x[i]+h*f_s(x[i])+sigma*N*dw[i]\n",
        "    xnowe=x[i]+h*f_s(xnowe)+sigma*N*dw[i]\n",
        "    xnowe=x[i]+h*f_s(xnowe)+sigma*N*dw[i]\n",
        "    xnowe=x[i]+h*f_s(xnowe)+sigma*N*dw[i]\n",
        "    x[i+1]=x[i]+h*f_s(xnowe)+sigma*N*dw[i]\n",
        "  return t,x"
      ]
    },
    {
      "cell_type": "code",
      "execution_count": null,
      "metadata": {
        "colab": {
          "base_uri": "https://localhost:8080/"
        },
        "id": "3sr8cZeu5c6J",
        "outputId": "05597b22-b3ad-4012-9b0a-ae7f2c1fde21"
      },
      "outputs": [
        {
          "name": "stdout",
          "output_type": "stream",
          "text": [
            "Wall time: 5min 3s\n"
          ]
        }
      ],
      "source": [
        "%%time\n",
        "tdB,xdB_tr=Lamperti_Backward(0.1,tg1,wg1)\n",
        "tB4,x4B_tr=Lamperti_Backward(0.1,tp1,wp1)\n",
        "tB5,x5B_tr=Lamperti_Backward(0.1,tp2,wp2)\n",
        "tB1,x1B_tr=Lamperti_Backward(0.1,t11,w11)\n",
        "tB2,x2B_tr=Lamperti_Backward(0.1,t21,w21)\n",
        "tB3,x3B_tr=Lamperti_Backward(0.1,t31,w31)"
      ]
    },
    {
      "cell_type": "code",
      "execution_count": null,
      "metadata": {
        "id": "gX-xnLzSH6kN"
      },
      "outputs": [],
      "source": [
        "xdB1=y(xdB_tr)\n",
        "x1B1=y(x1B_tr)\n",
        "x2B1=y(x2B_tr)\n",
        "x3B1=y(x3B_tr)\n",
        "x4B1=y(x4B_tr)\n",
        "x5B1=y(x5B_tr)"
      ]
    },
    {
      "cell_type": "code",
      "execution_count": null,
      "metadata": {
        "colab": {
          "base_uri": "https://localhost:8080/",
          "height": 504
        },
        "id": "SEtuLwS06DCl",
        "outputId": "40f41e15-9c83-4014-866c-9e4b62558903"
      },
      "outputs": [
        {
          "name": "stdout",
          "output_type": "stream",
          "text": [
            "Wall time: 428 ms\n"
          ]
        },
        {
          "data": {
            "text/plain": [
              "<matplotlib.legend.Legend at 0x21cd9124ee0>"
            ]
          },
          "execution_count": 17,
          "metadata": {},
          "output_type": "execute_result"
        },
        {
          "data": {
            "image/png": "[encoded data removed]",
            "text/plain": [
              "<Figure size 432x288 with 1 Axes>"
            ]
          },
          "metadata": {
            "needs_background": "light"
          },
          "output_type": "display_data"
        }
      ],
      "source": [
        "%%time\n",
        "plt.xlabel('t=czas')\n",
        "plt.ylabel('$Y_t$')\n",
        "plt.plot(tdB,xdB1, label='dokl')\n",
        "plt.plot(tB1,x1B1, label='x1')\n",
        "plt.plot(tB2,x2B1, label='x2')\n",
        "plt.plot(tB3,x3B1, label='x3')\n",
        "plt.legend()"
      ]
    },
    {
      "cell_type": "markdown",
      "metadata": {
        "id": "yjGI7uhQZjgi"
      },
      "source": [
        "Porównując schemat LST wraz z schematem LBE możemy zobaczyć, że ich trajektorie pokrywają się ze sobą"
      ]
    },
    {
      "cell_type": "code",
      "execution_count": null,
      "metadata": {
        "id": "OiM54mCdQrKS"
      },
      "outputs": [],
      "source": [
        "# %%time\n",
        "# plt.xlabel('t=czas')\n",
        "# plt.ylabel('$Y_t$')\n",
        "# plt.plot(tdB,xdB1, label='Lamperti Backward')\n",
        "# plt.plot(tdL,xdL1, label='Lamperti')\n",
        "# plt.legend()"
      ]
    },
    {
      "cell_type": "markdown",
      "metadata": {
        "id": "VG5KIRiDY4-n"
      },
      "source": [
        "Standardowo zobaczymy jak wyglądają wartości dla losowych punktów w zależności od gęstości siatki oraz błędy dla poszczególnych rozrzedzonych siatek."
      ]
    },
    {
      "cell_type": "code",
      "execution_count": null,
      "metadata": {
        "colab": {
          "base_uri": "https://localhost:8080/",
          "height": 175
        },
        "id": "0WJ7MuvjTgu-",
        "outputId": "a48c7348-ebaf-4348-b066-66814f2e547b"
      },
      "outputs": [
        {
          "data": {
            "text/html": [
              "<div>\n",
              "<style scoped>\n",
              "    .dataframe tbody tr th:only-of-type {\n",
              "        vertical-align: middle;\n",
              "    }\n",
              "\n",
              "    .dataframe tbody tr th {\n",
              "        vertical-align: top;\n",
              "    }\n",
              "\n",
              "    .dataframe thead th {\n",
              "        text-align: right;\n",
              "    }\n",
              "</style>\n",
              "<table border=\"1\" class=\"dataframe\">\n",
              "  <thead>\n",
              "    <tr style=\"text-align: right;\">\n",
              "      <th></th>\n",
              "      <th>siatka</th>\n",
              "      <th>wartość punktu</th>\n",
              "    </tr>\n",
              "  </thead>\n",
              "  <tbody>\n",
              "    <tr>\n",
              "      <th>0</th>\n",
              "      <td>dokł - 10^7</td>\n",
              "      <td>5.332589</td>\n",
              "    </tr>\n",
              "    <tr>\n",
              "      <th>1</th>\n",
              "      <td>10^6</td>\n",
              "      <td>5.332587</td>\n",
              "    </tr>\n",
              "    <tr>\n",
              "      <th>2</th>\n",
              "      <td>10^5</td>\n",
              "      <td>5.516404</td>\n",
              "    </tr>\n",
              "    <tr>\n",
              "      <th>3</th>\n",
              "      <td>10^4</td>\n",
              "      <td>5.332592</td>\n",
              "    </tr>\n",
              "    <tr>\n",
              "      <th>4</th>\n",
              "      <td>10^3</td>\n",
              "      <td>5.333202</td>\n",
              "    </tr>\n",
              "    <tr>\n",
              "      <th>5</th>\n",
              "      <td>10^2</td>\n",
              "      <td>5.324466</td>\n",
              "    </tr>\n",
              "  </tbody>\n",
              "</table>\n",
              "</div>"
            ],
            "text/plain": [
              "        siatka  wartość punktu\n",
              "0  dokł - 10^7        5.332589\n",
              "1         10^6        5.332587\n",
              "2         10^5        5.516404\n",
              "3         10^4        5.332592\n",
              "4         10^3        5.333202\n",
              "5         10^2        5.324466"
            ]
          },
          "execution_count": 18,
          "metadata": {},
          "output_type": "execute_result"
        }
      ],
      "source": [
        "dane2={'siatka':['dokł - 10^7','10^6','10^5','10^4','10^3','10^2'], 'wartość punktu':[xdB1[20*10**5],x4B1[20*10**4],x4B1[20*10**3],x1B1[20*10**2],x2B1[20*10],x3B1[20]]}\n",
        "df2=pd.DataFrame(dane2)\n",
        "df2"
      ]
    },
    {
      "cell_type": "code",
      "execution_count": null,
      "metadata": {
        "id": "R_xpXsfFTsjL"
      },
      "outputs": [],
      "source": [
        "blad_B=np.zeros(5)\n",
        "blad_B[0]=np.abs(xdB1[-1]-x4B1[-1])\n",
        "blad_B[1]=np.abs(xdB1[-1]-x5B1[-1])\n",
        "blad_B[2]=np.abs(xdB1[-1]-x1B1[-1])\n",
        "blad_B[3]=np.abs(xdB1[-1]-x2B1[-1])\n",
        "blad_B[4]=np.abs(xdB1[-1]-x3B1[-1])\n",
        "blad_B_log=np.log(blad_B)"
      ]
    },
    {
      "cell_type": "code",
      "execution_count": null,
      "metadata": {
        "colab": {
          "base_uri": "https://localhost:8080/",
          "height": 143
        },
        "id": "GE6s1B6IT8xw",
        "outputId": "66441af3-09ce-434c-d248-c5de621bbd36"
      },
      "outputs": [
        {
          "data": {
            "text/html": [
              "<div>\n",
              "<style scoped>\n",
              "    .dataframe tbody tr th:only-of-type {\n",
              "        vertical-align: middle;\n",
              "    }\n",
              "\n",
              "    .dataframe tbody tr th {\n",
              "        vertical-align: top;\n",
              "    }\n",
              "\n",
              "    .dataframe thead th {\n",
              "        text-align: right;\n",
              "    }\n",
              "</style>\n",
              "<table border=\"1\" class=\"dataframe\">\n",
              "  <thead>\n",
              "    <tr style=\"text-align: right;\">\n",
              "      <th></th>\n",
              "      <th>siatka</th>\n",
              "      <th>blad</th>\n",
              "    </tr>\n",
              "  </thead>\n",
              "  <tbody>\n",
              "    <tr>\n",
              "      <th>0</th>\n",
              "      <td>10^6</td>\n",
              "      <td>0.000002</td>\n",
              "    </tr>\n",
              "    <tr>\n",
              "      <th>1</th>\n",
              "      <td>10^5</td>\n",
              "      <td>0.000011</td>\n",
              "    </tr>\n",
              "    <tr>\n",
              "      <th>2</th>\n",
              "      <td>10^4</td>\n",
              "      <td>0.000061</td>\n",
              "    </tr>\n",
              "    <tr>\n",
              "      <th>3</th>\n",
              "      <td>10^3</td>\n",
              "      <td>0.000689</td>\n",
              "    </tr>\n",
              "    <tr>\n",
              "      <th>4</th>\n",
              "      <td>10^2</td>\n",
              "      <td>0.008359</td>\n",
              "    </tr>\n",
              "  </tbody>\n",
              "</table>\n",
              "</div>"
            ],
            "text/plain": [
              "  siatka      blad\n",
              "0   10^6  0.000002\n",
              "1   10^5  0.000011\n",
              "2   10^4  0.000061\n",
              "3   10^3  0.000689\n",
              "4   10^2  0.008359"
            ]
          },
          "execution_count": 20,
          "metadata": {},
          "output_type": "execute_result"
        }
      ],
      "source": [
        "bledy2={'siatka':['10^6','10^5','10^4','10^3','10^2'], 'blad':[blad_B[0],blad_B[1],blad_B[2],blad_B[3],blad_B[4]]}\n",
        "bd2=pd.DataFrame(bledy2)\n",
        "bd2"
      ]
    },
    {
      "cell_type": "code",
      "execution_count": null,
      "metadata": {
        "colab": {
          "base_uri": "https://localhost:8080/",
          "height": 447
        },
        "id": "IRf_rEfdUGtB",
        "outputId": "d9e2c341-4d10-46a6-bd41-ca9ce2b166e5",
        "scrolled": true
      },
      "outputs": [
        {
          "data": {
            "text/plain": [
              "<matplotlib.collections.PathCollection at 0x21c800f7580>"
            ]
          },
          "execution_count": 21,
          "metadata": {},
          "output_type": "execute_result"
        },
        {
          "data": {
            "image/png": "[encoded data removed]",
            "text/plain": [
              "<Figure size 432x288 with 1 Axes>"
            ]
          },
          "metadata": {
            "needs_background": "light"
          },
          "output_type": "display_data"
        }
      ],
      "source": [
        "plt.plot([0,1,2,3,4],blad_B_log)\n",
        "plt.scatter([0,1,2,3,4],blad_B_log)"
      ]
    },
    {
      "cell_type": "markdown",
      "metadata": {
        "id": "KZMHY346ZKa8"
      },
      "source": [
        "Analogicznie jak powyżej, przeprowadźmy 20 przejść i na ich podstawie wyliczmy uśredniony błąd dla danego scheamtu."
      ]
    },
    {
      "cell_type": "code",
      "execution_count": null,
      "metadata": {
        "colab": {
          "base_uri": "https://localhost:8080/"
        },
        "id": "mFjd-ycgUPin",
        "outputId": "8c1cf414-3d24-4df2-daf6-7dc4bc7a96ed"
      },
      "outputs": [
        {
          "name": "stdout",
          "output_type": "stream",
          "text": [
            "Wall time: 7h 44min 58s\n"
          ]
        }
      ],
      "source": [
        "%%time\n",
        "powt=80\n",
        "bladLBE1=np.zeros(powt)\n",
        "bladLBE2=np.zeros(powt)\n",
        "bladLBE3=np.zeros(powt)\n",
        "bladLBE4=np.zeros(powt)\n",
        "bladLBE5=np.zeros(powt)\n",
        "for i in range(powt):\n",
        "  tg,wg=wiener(10**7)\n",
        "  t4,w4=wiener_k(tg,wg,1)\n",
        "  t5,w5=wiener_k(tg,wg,2)\n",
        "  t1,w1=wiener_k(tg,wg,3)\n",
        "  t2,w2=wiener_k(tg,wg,4)\n",
        "  t3,w3=wiener_k(tg,wg,5)\n",
        "  td,xdB_tr=Lamperti_Backward(0.1,tg,wg)\n",
        "  tB1,x1B_tr=Lamperti_Backward(0.1,t1,w1)\n",
        "  tB2,x2B_tr=Lamperti_Backward(0.1,t2,w2)\n",
        "  tB3,x3B_tr=Lamperti_Backward(0.1,t3,w3)\n",
        "  tB4,x4B_tr=Lamperti_Backward(0.1,t4,w4)\n",
        "  tB5,x5B_tr=Lamperti_Backward(0.1,t5,w5)\n",
        "  xdB=y(xdB_tr)\n",
        "  x1B=y(x1B_tr)\n",
        "  x2B=y(x2B_tr)\n",
        "  x3B=y(x3B_tr)\n",
        "  x4B=y(x4B_tr)\n",
        "  x5B=y(x5B_tr)\n",
        "  bladLBE1[i]=np.abs(xdB[-1]-x1B[-1])\n",
        "  bladLBE2[i]=np.abs(xdB[-1]-x2B[-1])\n",
        "  bladLBE3[i]=np.abs(xdB[-1]-x3B[-1])\n",
        "  bladLBE4[i]=np.abs(xdB[-1]-x4B[-1])\n",
        "  bladLBE5[i]=np.abs(xdB[-1]-x5B[-1])\n",
        "blad1=np.mean(bladLBE1)\n",
        "blad2=np.mean(bladLBE2)\n",
        "blad3=np.mean(bladLBE3)\n",
        "blad4=np.mean(bladLBE4)\n",
        "blad5=np.mean(bladLBE5)"
      ]
    },
    {
      "cell_type": "code",
      "execution_count": null,
      "metadata": {
        "colab": {
          "base_uri": "https://localhost:8080/"
        },
        "id": "MMkCUzz4VPBu",
        "outputId": "36ac8ab6-50ff-474c-a712-9267c241fbe4"
      },
      "outputs": [
        {
          "data": {
            "text/plain": [
              "array([1.23506328e-06, 1.47349260e-05, 1.61980185e-04, 1.34165609e-03,\n",
              "       1.47455025e-02])"
            ]
          },
          "execution_count": 23,
          "metadata": {},
          "output_type": "execute_result"
        }
      ],
      "source": [
        "blad_LBE=np.zeros(5)\n",
        "blad_LBE[0]=blad4\n",
        "blad_LBE[1]=blad5\n",
        "blad_LBE[2]=blad1\n",
        "blad_LBE[3]=blad2\n",
        "blad_LBE[4]=blad3\n",
        "blad_LBE"
      ]
    },
    {
      "cell_type": "code",
      "execution_count": null,
      "metadata": {
        "colab": {
          "base_uri": "https://localhost:8080/",
          "height": 447
        },
        "id": "T0Xn9JSsVWlW",
        "outputId": "be4a440b-8443-4ddb-d423-ac78973393e2"
      },
      "outputs": [
        {
          "data": {
            "text/plain": [
              "<matplotlib.legend.Legend at 0x21c81b1c910>"
            ]
          },
          "execution_count": 47,
          "metadata": {},
          "output_type": "execute_result"
        },
        {
          "data": {
            "image/png": "[encoded data removed]",
            "text/plain": [
              "<Figure size 720x504 with 1 Axes>"
            ]
          },
          "metadata": {
            "needs_background": "light"
          },
          "output_type": "display_data"
        }
      ],
      "source": [
        "x = np.linspace(0, 5, 1000)\n",
        "plt.figure(figsize=(10,7))\n",
        "plt.plot(x,2.3*x-15,color='orange', label=\"Nachylenie 2.3\")\n",
        "plt.plot([0,1,2,3,4],np.log(blad_LBE), label=\"LBE\")\n",
        "plt.scatter([0,1,2,3,4],np.log(blad_LBE))\n",
        "plt.legend()"
      ]
    },
    {
      "cell_type": "code",
      "execution_count": null,
      "metadata": {
        "id": "yrcnw6G9aWl2"
      },
      "outputs": [],
      "source": [
        "# porownanie={'siatka':['10^6','10^5','10^4','10^3','10^2'], 'LST':[blad_LST[0],blad_LST[1],blad_LST[2],blad_LST[3],blad_LST[4]], 'LBE':[blad_LBE[0],blad_LBE[1],blad_LBE[2],blad_LBE[3],blad_LBE[4]]}\n",
        "# por=pd.DataFrame(porownanie)\n",
        "# por"
      ]
    },
    {
      "cell_type": "markdown",
      "metadata": {
        "id": "buIC6WXfcPxC"
      },
      "source": [
        "Widzimy zatem, że schemat LBE daje nam nieco dokładniejsze wyniki niż schemat wygładzanego obcinania Lampertiego, lecz długość jego wykonywania jest znacznie większa (około 4-krotnie). Wynika to z faktu, że LST jest schematem jawnym, natomiast LBE niejawnym."
      ]
    }
  ],
  "metadata": {
    "colab": {
      "provenance": []
    },
    "kernelspec": {
      "display_name": "Python 3",
      "language": "python",
      "name": "python3"
    },
    "language_info": {
      "codemirror_mode": {
        "name": "ipython",
        "version": 3
      },
      "file_extension": ".py",
      "mimetype": "text/x-python",
      "name": "python",
      "nbconvert_exporter": "python",
      "pygments_lexer": "ipython3",
      "version": "3.8.8"
    }
  },
  "nbformat": 4,
  "nbformat_minor": 0
}